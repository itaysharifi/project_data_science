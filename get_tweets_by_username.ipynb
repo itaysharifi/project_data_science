{
 "cells": [
  {
   "cell_type": "code",
   "execution_count": 1,
   "id": "e5079389",
   "metadata": {},
   "outputs": [],
   "source": [
    "import requests\n",
    "import os\n",
    "import json\n",
    "import tweepy"
   ]
  },
  {
   "cell_type": "code",
   "execution_count": 2,
   "id": "d6762975",
   "metadata": {},
   "outputs": [],
   "source": [
    "\n",
    "# To set your environment variables in your terminal run the following line:\n",
    "# export 'BEARER_TOKEN'='<your_bearer_token>' \n",
    "# API keyws that yous saved earlier\n",
    "api_key = \"dYlugpLwl5XsP22SdsWIQADEl\"\n",
    "api_secrets = \"BrkSnV446ZJNL1S3EH0hUR3m8ir3uWcfs3GlvDdv3kxUmy27QO\"\n",
    "access_token = \"1498694429678485516-KSM2uKrFcnAF4RMCjDa0cpzoDQWv2r\"\n",
    "access_secret = \"4AarofeHUsYp2WLppDPOa2ADKL2c89ZEm8RTAkxlhTjq5\""
   ]
  },
  {
   "cell_type": "code",
   "execution_count": 3,
   "id": "69d90902",
   "metadata": {},
   "outputs": [
    {
     "name": "stdout",
     "output_type": "stream",
     "text": [
      "<tweepy.api.API object at 0x0000025D3DB3ED90>\n",
      "Successful Authentication\n"
     ]
    }
   ],
   "source": [
    "#Authenticate to Twitter\n",
    "auth = tweepy.OAuthHandler(api_key,api_secrets)\n",
    "auth.set_access_token(access_token,access_secret)\n",
    " \n",
    "api = tweepy.API(auth)\n",
    "print (api)\n",
    " \n",
    "try:\n",
    "    api.verify_credentials()\n",
    "    print('Successful Authentication')\n",
    "except:\n",
    "    print('Failed authentication')"
   ]
  },
  {
   "cell_type": "code",
   "execution_count": 40,
   "id": "f8128a1e",
   "metadata": {},
   "outputs": [
    {
     "name": "stderr",
     "output_type": "stream",
     "text": [
      "Unexpected parameter: since\n",
      "Unexpected parameter: since\n",
      "Unexpected parameter: since\n",
      "Unexpected parameter: since\n",
      "Unexpected parameter: since\n",
      "Unexpected parameter: since\n",
      "Unexpected parameter: since\n",
      "Unexpected parameter: since\n",
      "Unexpected parameter: since\n",
      "Unexpected parameter: since\n",
      "Unexpected parameter: since\n",
      "Unexpected parameter: since\n",
      "Unexpected parameter: since\n",
      "Unexpected parameter: since\n",
      "Unexpected parameter: since\n",
      "Unexpected parameter: since\n",
      "Unexpected parameter: since\n",
      "Unexpected parameter: since\n",
      "Unexpected parameter: since\n",
      "Unexpected parameter: since\n",
      "Unexpected parameter: since\n",
      "Unexpected parameter: since\n"
     ]
    },
    {
     "name": "stdout",
     "output_type": "stream",
     "text": [
      "Total Tweets fetched: 300\n",
      "RT @bitcom_exchange: 📢 CMO Toya Zhang spoke to @YahooFinance this week on managing the Crypto winter:\n",
      "\n",
      "💬\"The future crypto services format…\n"
     ]
    }
   ],
   "source": [
    "#curl --request GET 'https://api.twitter.com/2/users/by/username/USER_NAME --header 'Authorization: Bearer XXXXXX'\n",
    "# get tweets from the API\n",
    "tweets = tweepy.Cursor(api.search_tweets,\n",
    "              q=\"YahooFinance\",\n",
    "              lang=\"en\",\n",
    "              since=\"2020-09-16\").items(300)\n",
    "\n",
    "# store the API responses in a list\n",
    "tweets_copy = []\n",
    "for tweet in tweets:\n",
    "    tweets_copy.append(tweet)\n",
    "    \n",
    "print(\"Total Tweets fetched:\", len(tweets_copy))\n",
    "print (tweets_copy[0].text)"
   ]
  },
  {
   "cell_type": "code",
   "execution_count": 37,
   "id": "9bff6254",
   "metadata": {},
   "outputs": [
    {
     "name": "stdout",
     "output_type": "stream",
     "text": [
      "['📢 CMO Toya Zhang spoke to @YahooFinance this week on managing the Crypto winter:\\n\\n💬\"The future crypto services form… https://t.co/5HnJZNGmLL', 'Alt text was not added to an image in this tweet.\\n\\nAlt text describes images for people who are blind or have low v… https://t.co/OcuLONDMZK', '@racingsocialnft: ‼️ GREAT NEWS ‼️\\n\\nWe have been featured on @YahooFinance \\n\\nOur article about the RSC fund caught a lot of attention, w…', \"Roe v. Wade: Companies must create culture of 'psychological safety,' expert says https://t.co/Rq1VKs8io0 by… https://t.co/oDnNS5kjnq\", '@YahooFinance: Nike’s retail strategy ‘should result in more full-priced’ products: Analyst https://t.co/HXkKI6zd4Z by @yaseennshah22 ht…', '@YahooFinance: Nike’s retail strategy ‘should result in more full-priced’ products: Analyst https://t.co/HXkKI6zd4Z by @yaseennshah22 ht…', '@YahooFinance: Bentley charts path forward with new Mulliner line and EV future https://t.co/DNxqnxXLuv by @Pras_S https://t.co/7PjnifJT…', 'Nike’s retail strategy ‘should result in more full-priced’ products: Analyst https://t.co/HXkKI6zd4Z by… https://t.co/Rl0d16lwgV', '@cielo_che_cade @YahooFinance @CoreLogicInc @SelmaHepp Me too.  I was following along and when I got to that at the… https://t.co/Ymy4TQzMOP', 'Stanley Cup Final viewership nearly doubles as ESPN hopes to turn new fans into subscribers https://t.co/TVKYlaTweW… https://t.co/riJe6b9o3q', 'Tesla reportedly lays off 200 in Autopilot unit, shutters San Mateo office https://t.co/GBVUA8JcOq by @Pras_S https://t.co/OkiGFWge8K', 'Housing: ‘We’re at a tipping point’ for home prices, economist says https://t.co/3DawlBPs44 by @__gabriellacruz https://t.co/CgVskXKCKd', 'Over 36 million children may lose food aid this week https://t.co/3EWWOgd0EM by @__gabriellacruz https://t.co/WyOyMIaIIF', 'America is slowly forgetting Abercrombie &amp; Fitch, survey shows https://t.co/8A8hR2k9By by @daniromerotv https://t.co/taDGl7ZXHU', \"America's tech giants have a new responsibility in the post-Roe world https://t.co/SLRaOVUYdu by @DanielHowley https://t.co/9COkA5VJSV\", 'The risky plan to block Russia’s oil revenue https://t.co/t6t1b7TX8y by @rickjnewman https://t.co/1AmXUmVzTP', \"Fired Starbucks barista on labor agency move: 'It's exciting to see' https://t.co/E9XknRIo7c by @daniromerotv https://t.co/e6obfIndox\", \"Big food shakeup ‘already underway’ amid Kellogg's split — here's who could be next https://t.co/s2f3WTNeGD by… https://t.co/nYCuL1mqUG\", \"Bed Bath &amp; Beyond is 'in the end days' after 'dumpster fire' quarter, analyst says https://t.co/Q0sgHbr0wA by… https://t.co/eEPMoVTZBn\", \"Spirit Airlines CEO: JetBlue is being 'childish' with inflammatory rhetoric https://t.co/PAYwQFGj4k by @BrianSozzi https://t.co/kGRr5WhvbF\", \"Bill Ackman urges Fed to 'act decisively to kill inflation' https://t.co/RXfbXbwGRv by @alexandraandnyc https://t.co/droBsuRezn\", 'Bentley charts path forward with new Mulliner line and EV future https://t.co/6nfY0HNV5M by @Pras_S https://t.co/TeQ6rO7olO', 'New report reveals major source of recent crypto market chaos https://t.co/JqqHb9oT93 by @DsHollers https://t.co/Ugjx2EIIiE', 'How high can mortgage rates go? Likely higher. https://t.co/mY1eTwTjR0 by @__gabriellacruz https://t.co/PibKxh81ai', 'Bitcoin fights to stay above $20,000 as Saylor buys another $10 million https://t.co/fXwgSfWZcz by @dshollers https://t.co/B326Nb7Lyk', 'Bed Bath &amp; Beyond CEO ousted as sales collapse 27% https://t.co/cIrDYZWhPc by @BrianSozzi https://t.co/QV7V9o5vkq', 'Spirit Airlines again delays shareholder vote on Frontier deal https://t.co/DdkKFcx0i9 https://t.co/Y1unHNm8RT', \"Google targeted in fresh EU consumer groups' privacy complaints https://t.co/YAf59B2pfX https://t.co/FxPJhIAOrG\", 'Investors, consumers are pushing the health care industry to tackle health inequity: Deloitte… https://t.co/nk1RAwhu5L', '@budfoxfun: $PVSP Pervasip and KRTL International Receive Exclusive Approval to Participate in $40 Million Korean Hemp Regulation Group…', '@budfoxfun: $PVSP Pervasip and KRTL International Receive Exclusive Approval to Participate in $40 Million Korean Hemp Regulation Group…', \"@YahooFinance: Bill Ackman urges Fed to 'act decisively to kill inflation' https://t.co/oJb8124tIz by @alexandraandnyc https://t.co/7C9g…\", '@budfoxfun: $PVSP Pervasip and KRTL International Receive Exclusive Approval to Participate in $40 Million Korean Hemp Regulation Group…', '@budfoxfun: $PVSP News Out: Pervasip and KRTL International Receive Exclusive Approval to Participate in $40 Million Korean Hemp Regulat…', '@budfoxfun: $PVSP Pervasip and KRTL International Receive Exclusive Approval to Participate in $40 Million Korean Hemp Regulation Group…', '@budfoxfun: $PVSP Pervasip and KRTL International Receive Exclusive Approval to Participate in $40 Million Korean Hemp Regulation Group…', '5 Best Dividend Stocks to Buy Now https://t.co/1HYCNlWOG8 來自 @YahooFinance', 'Stanley Cup Final viewership nearly doubles as ESPN hopes to turn new fans into subscribers https://t.co/ThlMUAGrm0… https://t.co/2JxnIvMc5I', '@YahooFinance: “Inflation is a very serious subject,” Berkshire Hathaway Vice Chairman &amp; Daily Journal Chairman Charlie Munger says. “Yo…', '@YahooFinance: Housing: ‘We’re at a tipping point’ for home prices, economist says https://t.co/Ytx31JsVVn by @__gabriellacruz https://t…', 'Bernanke says he never expected rates to be at zero for so long https://t.co/kiipw5j0C1 via @YahooFinance', \"@EMarineBoard: Article @YahooFinance on '#European #fisheries view #globalwarming as main danger to fishing industry' presents main find…\", 'Jeremy Grantham warns the S&amp;P 500 will ‘likely’ plunge another 40% minimum — https://t.co/bLV4ojggzy via @YahooFinance', '@budfoxfun: $PVSP Pervasip and KRTL International Receive Exclusive Approval to Participate in $40 Million Korean Hemp Regulation Group…', 'Web browsing and researching online while listening to video reports via @YahooFinance @WSJ and more.\\n#sidehustle… https://t.co/jWClNnssP0', 'Should I wait for real estate prices to crash before I buy a house? Here are 3 simple reasons why this housing down… https://t.co/tCfze3Zjie', '@YahooFinance: Tesla reportedly lays off 200 in Autopilot unit, shutters San Mateo office https://t.co/sYEHwOvJkp by @Pras_S https://t.c…', '@chef_Ape_D: Housing bubble about to pop', '@RevBruceJ1: Systemic racism and #success  spoken about openly by @NFL @TroyVincentSr @YahooFinance \\nhttps://t.co/oalj9GaJkI', 'Tesla reportedly lays off 200 in Autopilot unit, shutters San Mateo office https://t.co/sYEHwOvJkp by @Pras_S https://t.co/OdYckAGzl5']\n"
     ]
    }
   ],
   "source": [
    "texts = []\n",
    "for tweet in tweets_copy:\n",
    "    texts.append(tweet.text.replace(\"RT \",\"\"))\n",
    "    \n",
    "print (texts)"
   ]
  },
  {
   "cell_type": "code",
   "execution_count": 41,
   "id": "8b0093de",
   "metadata": {},
   "outputs": [],
   "source": [
    "import pandas as pd\n",
    "\n",
    "# intialize the dataframe\n",
    "tweets_df = pd.DataFrame()\n",
    "\n",
    "# populate the dataframe\n",
    "for tweet in tweets_copy:\n",
    "    hashtags = []\n",
    "    try:\n",
    "        for hashtag in tweet.entities[\"hashtags\"]:\n",
    "            hashtags.append(hashtag[\"text\"])\n",
    "        text = api.get_status(id=tweet.id, tweet_mode='extended').full_text\n",
    "    except:\n",
    "        pass\n",
    "    tweets_df = tweets_df.append(pd.DataFrame({'user_name': tweet.user.name, \n",
    "                                               'user_location': tweet.user.location,\\\n",
    "                                               'user_description': tweet.user.description,\n",
    "                                               'user_verified': tweet.user.verified,\n",
    "                                               'date': tweet.created_at,\n",
    "                                               'text': text.replace(\"RT \",\"\"), \n",
    "                                               'hashtags': [hashtags if hashtags else None],\n",
    "                                               'source': tweet.source}))\n",
    "    tweets_df = tweets_df.reset_index(drop=True)\n",
    "\n",
    "# show the dataframe\n",
    "tweets_df.head()\n",
    "tweets_df.to_csv(\"finance_twitter.csv\")"
   ]
  },
  {
   "cell_type": "markdown",
   "id": "46ba7f64",
   "metadata": {},
   "source": [
    "Yahoo Entertainment\n"
   ]
  },
  {
   "cell_type": "code",
   "execution_count": 42,
   "id": "b14ced75",
   "metadata": {},
   "outputs": [
    {
     "name": "stderr",
     "output_type": "stream",
     "text": [
      "Unexpected parameter: since\n",
      "Unexpected parameter: since\n",
      "Unexpected parameter: since\n",
      "Unexpected parameter: since\n",
      "Unexpected parameter: since\n",
      "Unexpected parameter: since\n",
      "Unexpected parameter: since\n",
      "Unexpected parameter: since\n",
      "Unexpected parameter: since\n",
      "Unexpected parameter: since\n",
      "Unexpected parameter: since\n",
      "Unexpected parameter: since\n",
      "Unexpected parameter: since\n",
      "Unexpected parameter: since\n",
      "Unexpected parameter: since\n",
      "Unexpected parameter: since\n",
      "Unexpected parameter: since\n",
      "Unexpected parameter: since\n",
      "Unexpected parameter: since\n",
      "Unexpected parameter: since\n",
      "Unexpected parameter: since\n",
      "Unexpected parameter: since\n",
      "Unexpected parameter: since\n"
     ]
    },
    {
     "name": "stdout",
     "output_type": "stream",
     "text": [
      "Total Tweets fetched: 300\n",
      "Amanda de Cadenet talks about her life-saving abortion after suffering an incomplete miscarriage… https://t.co/PTYqxzZKDP\n"
     ]
    }
   ],
   "source": [
    "#https://twitter.com/YahooEnt?s=20&t=ei_cK5YEM6G4PkFksUw1Jg\n",
    "tweets = tweepy.Cursor(api.search_tweets,\n",
    "              q=\"YahooEnt\",\n",
    "              lang=\"en\",\n",
    "              since=\"2020-09-16\").items(300)\n",
    "\n",
    "# store the API responses in a list\n",
    "tweets_copy = []\n",
    "for tweet in tweets:\n",
    "    tweets_copy.append(tweet)\n",
    "    \n",
    "print(\"Total Tweets fetched:\", len(tweets_copy))\n",
    "print (tweets_copy[0].text)"
   ]
  },
  {
   "cell_type": "code",
   "execution_count": 43,
   "id": "7b4ec4be",
   "metadata": {},
   "outputs": [],
   "source": [
    "import pandas as pd\n",
    "\n",
    "# intialize the dataframe\n",
    "tweets_df = pd.DataFrame()\n",
    "\n",
    "# populate the dataframe\n",
    "for tweet in tweets_copy:\n",
    "    hashtags = []\n",
    "    try:\n",
    "        for hashtag in tweet.entities[\"hashtags\"]:\n",
    "            hashtags.append(hashtag[\"text\"])\n",
    "        text = api.get_status(id=tweet.id, tweet_mode='extended').full_text\n",
    "    except:\n",
    "        pass\n",
    "    tweets_df = tweets_df.append(pd.DataFrame({'user_name': tweet.user.name, \n",
    "                                               'user_location': tweet.user.location,\\\n",
    "                                               'user_description': tweet.user.description,\n",
    "                                               'user_verified': tweet.user.verified,\n",
    "                                               'date': tweet.created_at,\n",
    "                                               'text': text.replace(\"RT \",\"\"), \n",
    "                                               'hashtags': [hashtags if hashtags else None],\n",
    "                                               'source': tweet.source}))\n",
    "    tweets_df = tweets_df.reset_index(drop=True)\n",
    "\n",
    "# show the dataframe\n",
    "tweets_df.head()\n",
    "tweets_df.to_csv(\"entertainment_twitter.csv\")"
   ]
  },
  {
   "cell_type": "code",
   "execution_count": 44,
   "id": "f8fb7755",
   "metadata": {},
   "outputs": [
    {
     "data": {
      "text/plain": [
       "Index(['user_name', 'user_location', 'user_description', 'user_verified',\n",
       "       'date', 'text', 'hashtags', 'source'],\n",
       "      dtype='object')"
      ]
     },
     "execution_count": 44,
     "metadata": {},
     "output_type": "execute_result"
    }
   ],
   "source": [
    "tweets_df.columns"
   ]
  },
  {
   "cell_type": "code",
   "execution_count": null,
   "id": "41b79acf",
   "metadata": {},
   "outputs": [],
   "source": []
  }
 ],
 "metadata": {
  "kernelspec": {
   "display_name": "Python 3 (ipykernel)",
   "language": "python",
   "name": "python3"
  },
  "language_info": {
   "codemirror_mode": {
    "name": "ipython",
    "version": 3
   },
   "file_extension": ".py",
   "mimetype": "text/x-python",
   "name": "python",
   "nbconvert_exporter": "python",
   "pygments_lexer": "ipython3",
   "version": "3.9.7"
  }
 },
 "nbformat": 4,
 "nbformat_minor": 5
}
